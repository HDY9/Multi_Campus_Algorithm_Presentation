{
 "cells": [
  {
   "cell_type": "code",
   "execution_count": null,
   "metadata": {
    "id": "XuSgWUkfK-q0"
   },
   "outputs": [],
   "source": [
    "# 실습 1\n",
    "# 버블 정렬 알고리즘 구현하기(basic)\n",
    "\n",
    "    n = len(a)\n",
    "    for i in range(n-1):\n",
    "    # 첫 번째 for문은 오른쪽부터 시작하여 가장 작은 값을 맨 앞으로 보내는 패스 횟수를 나타냄.\n",
    "        for j in range(n-1,i,-1):\n",
    "        # 두 번째 for문은 보다 세부적인 비교ㆍ교환하는 패스를 나타냄. 정렬할 숫자의 인덱스를 범위를 나타냄.\n",
    "        # 역행(-1)하는 이유는 뒤에서부터 시작하여 가장 작은 수를 앞으로 보내려면 이전 인덱스(n-1)에 있는 요소와 비교해야 하므로.\n",
    "            if a[j-1] > a[j]:\n",
    "                a[j-1],a[j] = a[j],a[j-1]"
   ]
  },
  {
   "cell_type": "markdown",
   "metadata": {},
   "source": [
    "타입 힌트라고 하는데, typing 모듈을 불러오면 이렇게 나타낼 수 있어요. ->는 반환값을 미리 설정해 놓은 겁니다.  \n",
    "시퀀스 길이를 n에 저장하고, 첫 번째 for문은 패스 횟수를 나타내기 위함.  \n",
    "두 번째 for문은 뒤에서부터 앞으로 각 요소들을 비교,교환하기 위한 조건문.  \n",
    "만약 앞의 요소가 더 크면 둘이 자리를 바꾼다  \n",
    "만약 name이라는 변수 값이 main이라면 아래의 코드를 실행하라  \n",
    "input함수로 원소 수를 받고 나서요, 7개의 원소가 들어갈 그릇을 생성합니다.  \n",
    "그러면 for문을 돌려서 각 자리에 어떤 원솟값을 줄 건지 받아서 정렬을 실행합니다.  \n",
    "그러고 출력한 결과."
   ]
  },
  {
   "cell_type": "code",
   "execution_count": null,
   "metadata": {
    "id": "OncC3xX2Mzy5"
   },
   "outputs": [],
   "source": [
    "# 실습 2\n",
    "# 그냥 주석 처리로 진행"
   ]
  },
  {
   "cell_type": "markdown",
   "metadata": {},
   "source": [
    "실습2의 알고리즘은 실습1이 어떤 식으로 정렬 과정을 거치는지, 그 과정을 보여주는 알고리즘.  \n",
    "비교횟수와 교환횟수가 총 몇 번 이뤄지는지 보여주기 위한 초깃값  \n",
    "똑같이 진행합니다.  \n",
    "첫 번째 for문 아래 print를 찍어준 건 총 패스 횟수를 알기 위해    \n",
    "세 번째 for문은, 이 코드의 결과를 찍어보면 숫자와 숫자 사이의 공백이 2칸씩 생성되어 있는데 그 부분을 나타내기 위한 for문입니다. 공백 인덱스를 나타내기 위함이에요.  \n",
    "그러고 숫자들을 출력합니다. 숫자 출력이기 때문에 두 번째 for문에 걸치도록 인덴트 조심.  \n",
    "한 번의 패스를 쭉 돌린 과정이기 때문에 비교 카운트 1 더해줍니다.    \n",
    "그리고 앞 요소가 더 크다면 교환 카운트 1 올리고 둘의 자리를 바꿔줍니다.    \n",
    "그러고 이 밑은 위에 디버깅하듯 중간중간 print를 찍어놓은 것들을 한 번에 정리해 놓은 것.  "
   ]
  },
  {
   "cell_type": "code",
   "execution_count": null,
   "metadata": {
    "id": "S0IKHbuQNZ9F"
   },
   "outputs": [],
   "source": [
    "# 실습 3\n",
    "# 버블 정렬 알고리즘 구현하기(개선 버전)\n",
    "\n",
    "        exchng = 0  # 패스에서의 교환 횟수, 반복을 빠져나오기 위한 장치\n",
    "        for j in range(n-1,i,-1):\n",
    "            for m in range(0,n-1):\n",
    "                print(f'{a[m]:2}' + ('  ' if m != j-1 else\n",
    "                                     ' +' if a[j-1] > a[j] else\n",
    "                                     ' -'), end='')\n",
    "            print(f'{a[n-1]:2}')\n",
    "            ccnt += 1\n",
    "            if a[j-1] > a[j]:\n",
    "                scnt += 1\n",
    "                a[j-1],a[j] = a[j],a[j-1]\n",
    "                exchng += 1\n",
    "        for m in range(0,n-1):\n",
    "            print(f'{a[m]:2}', end='  ')\n",
    "        print(f'{a[n-1]:2}')\n",
    "        if exchng == 0:  # 교환이 수행되지 않았으면 작업을 중단\n",
    "            break"
   ]
  },
  {
   "cell_type": "markdown",
   "metadata": {},
   "source": [
    "실습2의 구조와 비슷한데, 개선 버전입니다. 비교와 교환 횟수를 줄이기 위함.  \n",
    "실습2까지의 알고리즘은 더이상 비교,교환이 필요 없더라도 정해진 for문 범위만큼은 비교 횟수를 채워줘야함.  \n",
    "여기서는 어떤 패스(총 비교,교환을 하는 과정)의 교환 횟수가 0이면, 모든 원소가 정렬을 완료했다고 인식하고 정렬을 중단하는 것.  \n",
    "잘 보시면 다 비슷한데 exchng라는 변수가 생겼습니다. 이것 반복문을 빠져나가기 위한 장치입니다. scnt랑 다른 점은  \n",
    "scnt는 전체 교환 횟수를 카운트하기 위한 변수이고, exchng는 첫 번째 for문에 걸려 있는 교환 카운트 변수이기 때문에  \n",
    "하나의 패스에서 일어나는 교환 횟수를 카운트함. 그래서 어떤 패스에서의 교환이 0이면 반복문을 빠져나옵니다.  "
   ]
  },
  {
   "cell_type": "code",
   "execution_count": null,
   "metadata": {
    "id": "imcNh8ygPa4A"
   },
   "outputs": [],
   "source": [
    "# 실습 4\n",
    "# 버블 정렬 알고리즘 구현하기 (개선 2)\n",
    "\n",
    "    while k < n-1:\n",
    "        print(f'패스 {i+1}')\n",
    "        i += 1\n",
    "        last = n-1  # 각 패스에서 마지막으로 교환한 두 원소 가운데 오른쪽 원소인 a[j]의 인덱스를 저장\n",
    "        for j in range(n-1,k,-1):\n",
    "            for m in range(0,n-1):\n",
    "                print(f'{a[m]:2}' + ('  ' if m != j-1 else\n",
    "                                    ' +' if a[j-1] > a[j] else ' -'),\n",
    "                     end='')\n",
    "            print(f'{a[n-1]:2}')\n",
    "            ccnt += 1\n",
    "            if a[j-1] > a[j]:\n",
    "                scnt += 1\n",
    "                a[j-1],a[j] = a[j],a[j-1]\n",
    "                last = j\n",
    "        k = last"
   ]
  },
  {
   "cell_type": "markdown",
   "metadata": {},
   "source": [
    "실습4는 좀더 개선한 버전입니다. 실습3은 어쨌든 어떤 패스를 시작하면 처음부터 끝까지 다 스캔을 하잖아요.  \n",
    "실습4 버전은 각각의 패스 안에서 불필요한 비교를 줄이기 위한 알고리즘.  \n",
    "각각의 패스에서 어떤 특정한 원소 이후에 교환이 없다면, 그 지점을 기준점으로 삼아 그 앞은 정렬이 다 되었다고 보고 버려버리고, 그 뒤만을 범위로 잡아서 비교 교환을 실시합니다.  \n",
    "그 지점을 잡기 위해 k와 last라는 변수를 세웁니다.  \n",
    "여기서는 while문을 사용합니다. last는 원소 교환 후 오른쪽 인덱스를 담기 위한 장치로 보시면 됩니다.  \n",
    "그 밑은 똑같이 진행하고요, 여기 둘의 자리를 바꾸고 나서, 서로 바꾼 인덱스의 오른쪽 인덱스를 last변수에 넣고, 이걸 다시 k 값으로 치환합니다. 반복문이기 때문에 다시 처음으로 올라와서  \n",
    "첫 번째 for문에 대입하면 그만큼 범위가 좁혀서 돌게 됩니다.  "
   ]
  },
  {
   "cell_type": "code",
   "execution_count": null,
   "metadata": {
    "id": "gnc51SqjQufD"
   },
   "outputs": [],
   "source": [
    "# 실습 5\n",
    "# 세이커 정렬\n",
    "\n",
    "    while left < right:\n",
    "        print(f'패스{i+1}')\n",
    "        i += 1\n",
    "        for j in range(right,left,-1):\n",
    "            for m in range(0,n-1):\n",
    "                print(f'{a[m]:2}' + ('  ' if m != j-1 else\n",
    "                                    ' +' if a[j-1] > a[j] else ' -'),\n",
    "                         end = '')\n",
    "            print(f'{a[n-1]:2}')\n",
    "            ccnt += 1\n",
    "            if a[j-1] > a[j]:\n",
    "                scnt += 1\n",
    "                a[j-1],a[j] = a[j],a[j-1]\n",
    "                last = j\n",
    "        left = last\n",
    "        for m in range(0,n-1):\n",
    "            print(f'{a[m]:2}', end='  ')\n",
    "        print(f'{a[n-1]:2}')\n",
    "\n",
    "        if (left == right):\n",
    "            break\n",
    "        print(f'패스 {i+1}')\n",
    "        i += 1\n",
    "        for j in range(left,right):\n",
    "            for m in range(0,n-1):\n",
    "                print(f'{a[m]:2}' + ('  ' if m != j else\n",
    "                                    ' +' if a[j] > a[j+1] else ' -'),\n",
    "                      end = '')\n",
    "            print(f'{a[n-1]:2}')\n",
    "            ccnt += 1\n",
    "            if a[j] > a[j+1]:\n",
    "                scnt += 1\n",
    "                a[j], a[j+1] = a[j+1],a[j]\n",
    "                last = j\n",
    "        right = last\n",
    "        for m in range(0,n-1):\n",
    "            print(f'{a[m]:2}', end='  ')\n",
    "        print(f'{a[n - 1]:2}')\n",
    "    print(f'비교를 {ccnt}번 했습니다.')\n",
    "    print(f'교환을 {scnt}번 했습니다.')"
   ]
  },
  {
   "cell_type": "markdown",
   "metadata": {},
   "source": [
    "코드가 길어서 이건 그냥 코드 자체를 가져와서 설명만 좀 드리겠습니다.  \n",
    "변수에 담아서 그렇지 코드 진행은 위의 실습과 비슷합니다. 그냥 코드만으로는 설명이 어려워서 출력 결과와 비교해서 설명드리겠습니다.  \n",
    "원소는 7개이니 당연히 left가 right보다 작으니 while문을 실행합니다. 첫 번째 for문으로 뒤에서부터 앞으로 돌고, 공백을 나타내는 for문도 돕니다.  \n",
    "쭉쭉 돌리다 보면 9와 1의 위치가 바뀝니다. 그러면서 last에는 2라는 인덱스가 들어가고 left에도 2가 들어갑니다.  \n",
    "left와 right가 같지 않으니 똑같이 쭉 돌립니다. 그런데 여기서는 왼쪽부터 오른쪽으로 for문이 돌기 때문에 2 3 3 4 5 6 이렇게 교환이 일어납니다.  \n",
    "교환이 일어나고 나면 last에는 6이라는 인덱스가 들어가고 right도 6이 들어갑니다. 다시 처음 while문으로 돌아와서 쭉 도는데, 이미 정렬이 끝난 상황이기 때문에   \n",
    "쭉 내려와서 기존에 저장되어 있던 6이라는 인덱스가 left에 들어갑니다. 그렇게 되면 left와 right가 같아지기 때문에 break가 실행되어 반복문을 빠져나갑니다.  "
   ]
  },
  {
   "cell_type": "code",
   "execution_count": null,
   "metadata": {
    "id": "3X5588RSkVlH"
   },
   "outputs": [],
   "source": [
    "# 실습 6\n",
    "# 단순 선택 정렬 알고리즘 구현\n",
    "\n",
    "    n = len(a)\n",
    "    for i in range(n-1):\n",
    "        min = i  # 정렬 할 부분에서 가장 작은 원소의 인덱스\n",
    "        for j in range(i+1,n):\n",
    "            if a[j] < a[min]:\n",
    "                min = j\n",
    "        a[i],a[min] = a[min],a[i]  # 정렬 할 부분에서 맨 앞의 원소와 가장 작은 원소를 교환"
   ]
  },
  {
   "cell_type": "markdown",
   "metadata": {},
   "source": [
    "시퀀스 길이만큼 n 변수에 넣고, 첫 번째 for문 패스를 나타내는 for문 돌립니다.  \n",
    "여기서 min은 가장 작은 원소의 인덱스를 넣기 위한 변수인데, i로 하는 이유는 어차피 가장 작은 수가 맨 앞으로 가야 하기 때문입니다.  \n",
    "그러고 두 번째 for문을 보면 i+1부터 범위를 잡는데요 그 이유는 아직 정렬하지 않은 부분에서 맨 앞에 있는 원소와 비교를 해야 하기 때문입니다.  \n",
    "그래서 min의 위치에 있는 원소보다 j의 위치에 있는 원소가 더 작으면 j값을 min에 넣습니다. 그러고 자리를 바꿉니다.  \n",
    "이걸 반복해서 쭉 출력하면 정렬을 완료할 수 있습니다."
   ]
  }
 ],
 "metadata": {
  "colab": {
   "collapsed_sections": [],
   "name": "알고리즘_라이브코딩_작성_부분.ipynb",
   "provenance": []
  },
  "kernelspec": {
   "display_name": "Python 3 (ipykernel)",
   "language": "python",
   "name": "python3"
  },
  "language_info": {
   "codemirror_mode": {
    "name": "ipython",
    "version": 3
   },
   "file_extension": ".py",
   "mimetype": "text/x-python",
   "name": "python",
   "nbconvert_exporter": "python",
   "pygments_lexer": "ipython3",
   "version": "3.9.12"
  }
 },
 "nbformat": 4,
 "nbformat_minor": 1
}
